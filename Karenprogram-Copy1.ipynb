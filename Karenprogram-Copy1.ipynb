{
 "cells": [
  {
   "cell_type": "markdown",
   "id": "0828ff64",
   "metadata": {},
   "source": [
    "1.CALCULATE SALARY \n",
    "Read the question carefully and follow the input and output format.\n",
    "Karen got salary for this month and she spends 20% of her salary for food and 30% of her \n",
    "salary for travel. If she takes care of other shifts she will get 2% of the salary per day. Given \n",
    "her salary and the number of shifts she handled. Calculate how much she can save in her \n",
    "pocket after spending all these?\n",
    "Input and Output Format :\n",
    "First line of input consists of an integer, salary. Next line correspond to the number of shifts. \n",
    "Output consist of an integer, which is saving.\n",
    "1) Print \"Salary too large\" when salary is greater than 8000.\n",
    "2) Print \"Shifts too small\" when the shift is less than 0.\n",
    "3) Print \"Salary too small\" when the salary is less than 0.\n",
    "Include a function named calculateSal(int salary, int shifts) whose return type is an integer, \n",
    "which is the saving.\n",
    "Sample Input 1:\n",
    "7000\n",
    "5\n",
    "Sample Output 1:\n",
    "4200"
   ]
  },
  {
   "cell_type": "code",
   "execution_count": 1,
   "id": "b9516efb",
   "metadata": {},
   "outputs": [
    {
     "name": "stdout",
     "output_type": "stream",
     "text": [
      "Enter Salary = 7000\n",
      "Number of Shifts = 5\n",
      "4200.0\n"
     ]
    }
   ],
   "source": [
    "salary=int(input(\"Enter Salary = \"))\n",
    "shift= int(input(\"Number of Shifts = \"))\n",
    "if salary>8000:\n",
    "    print(\"Salary too large\")\n",
    "elif shift<0:\n",
    "    print(\"Shift too small\")\n",
    "elif salary<0:\n",
    "    print(\"Salary too small\")\n",
    "else:\n",
    "    savings=(salary*0.5)+(salary*0.02*shift)\n",
    "    print(savings)\n"
   ]
  },
  {
   "cell_type": "code",
   "execution_count": null,
   "id": "71655ad7",
   "metadata": {},
   "outputs": [],
   "source": []
  }
 ],
 "metadata": {
  "kernelspec": {
   "display_name": "Python 3 (ipykernel)",
   "language": "python",
   "name": "python3"
  },
  "language_info": {
   "codemirror_mode": {
    "name": "ipython",
    "version": 3
   },
   "file_extension": ".py",
   "mimetype": "text/x-python",
   "name": "python",
   "nbconvert_exporter": "python",
   "pygments_lexer": "ipython3",
   "version": "3.10.4"
  }
 },
 "nbformat": 4,
 "nbformat_minor": 5
}
