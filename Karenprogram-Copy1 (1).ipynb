{
 "cells": [
  {
   "cell_type": "markdown",
   "id": "0828ff64",
   "metadata": {},
   "source": [
    "1.CALCULATE SALARY \n",
    "Read the question carefully and follow the input and output format.\n",
    "Karen got salary for this month and she spends 20% of her salary for food and 30% of her \n",
    "salary for travel. If she takes care of other shifts she will get 2% of the salary per day. Given \n",
    "her salary and the number of shifts she handled. Calculate how much she can save in her \n",
    "pocket after spending all these?\n",
    "Input and Output Format :\n",
    "First line of input consists of an integer, salary. Next line correspond to the number of shifts. \n",
    "Output consist of an integer, which is saving.\n",
    "1) Print \"Salary too large\" when salary is greater than 8000.\n",
    "2) Print \"Shifts too small\" when the shift is less than 0.\n",
    "3) Print \"Salary too small\" when the salary is less than 0.\n",
    "Include a function named calculateSal(int salary, int shifts) whose return type is an integer, \n",
    "which is the saving.\n",
    "Sample Input 1:\n",
    "7000\n",
    "5\n",
    "Sample Output 1:\n",
    "4200"
   ]
  },
  {
   "cell_type": "code",
   "execution_count": 1,
   "id": "b9516efb",
   "metadata": {},
   "outputs": [
    {
     "name": "stdout",
     "output_type": "stream",
     "text": [
      "Enter Salary = 7000\n",
      "Number of Shifts = 5\n",
      "4200.0\n"
     ]
    }
   ],
   "source": [
    "salary=int(input(\"Enter Salary = \"))\n",
    "shift= int(input(\"Number of Shifts = \"))\n",
    "if salary>8000:\n",
    "    print(\"Salary too large\")\n",
    "elif shift<0:\n",
    "    print(\"Shift too small\")\n",
    "elif salary<0:\n",
    "    print(\"Salary too small\")\n",
    "else:\n",
    "    savings=(salary*0.5)+(salary*0.02*shift)\n",
    "    print(savings)\n"
   ]
  },
  {
   "cell_type": "code",
   "execution_count": 10,
   "id": "71655ad7",
   "metadata": {},
   "outputs": [
    {
     "ename": "SyntaxError",
     "evalue": "invalid syntax (2196122006.py, line 2)",
     "output_type": "error",
     "traceback": [
      "\u001b[1;36m  Input \u001b[1;32mIn [10]\u001b[1;36m\u001b[0m\n\u001b[1;33m    if (n %2)! = 0:\u001b[0m\n\u001b[1;37m             ^\u001b[0m\n\u001b[1;31mSyntaxError\u001b[0m\u001b[1;31m:\u001b[0m invalid syntax\n"
     ]
    }
   ],
   "source": [
    "n=int(input(\"Enter the number = \"))\n",
    "if (n %2)! = 0:\n",
    "    print(\"wierd\")\n",
    "else\n",
    "    if n>=2 and n<=5:\n",
    "        print('not weird')\n",
    "    else n>=6 and n<=20:\n",
    "        print('weird')\n",
    "    elif n>20:\n",
    "        print('not weird')\n",
    "    "
   ]
  },
  {
   "cell_type": "code",
   "execution_count": 14,
   "id": "44af223c",
   "metadata": {},
   "outputs": [
    {
     "ename": "SyntaxError",
     "evalue": "invalid syntax (3303168403.py, line 2)",
     "output_type": "error",
     "traceback": [
      "\u001b[1;36m  Input \u001b[1;32mIn [14]\u001b[1;36m\u001b[0m\n\u001b[1;33m    if (n % 2) ! = 0:\u001b[0m\n\u001b[1;37m               ^\u001b[0m\n\u001b[1;31mSyntaxError\u001b[0m\u001b[1;31m:\u001b[0m invalid syntax\n"
     ]
    }
   ],
   "source": [
    "n=int(input(\"Enter the number = \"))\n",
    "if (n % 2) ! = 0:\n",
    "    print(\"wierd\")\n",
    "elif n % 2 == 0:\n",
    "    if n>=2 and n<=5:\n",
    "        print(\"not weird\")\n",
    "    elif n>=6 and n<=20:\n",
    "        print('weird')\n",
    "    else n>20:\n",
    "        print('not weird')\n",
    "    "
   ]
  },
  {
   "cell_type": "markdown",
   "id": "38955722",
   "metadata": {},
   "source": [
    "### "
   ]
  },
  {
   "cell_type": "code",
   "execution_count": null,
   "id": "f8872a6c",
   "metadata": {},
   "outputs": [],
   "source": []
  },
  {
   "cell_type": "code",
   "execution_count": 15,
   "id": "90f8d0b9",
   "metadata": {},
   "outputs": [
    {
     "name": "stdout",
     "output_type": "stream",
     "text": [
      "enter the number63\n",
      "1   1   1   1\n",
      "2   2   2   10\n",
      "3   3   3   11\n",
      "4   4   4   100\n",
      "5   5   5   101\n",
      "6   6   6   110\n",
      "7   7   7   111\n",
      "8   10   8   1000\n",
      "9   11   9   1001\n",
      "10   12   A   1010\n",
      "11   13   B   1011\n",
      "12   14   C   1100\n",
      "13   15   D   1101\n",
      "14   16   E   1110\n",
      "15   17   F   1111\n",
      "16   20   10   10000\n",
      "17   21   11   10001\n",
      "18   22   12   10010\n",
      "19   23   13   10011\n",
      "20   24   14   10100\n",
      "21   25   15   10101\n",
      "22   26   16   10110\n",
      "23   27   17   10111\n",
      "24   30   18   11000\n",
      "25   31   19   11001\n",
      "26   32   1A   11010\n",
      "27   33   1B   11011\n",
      "28   34   1C   11100\n",
      "29   35   1D   11101\n",
      "30   36   1E   11110\n",
      "31   37   1F   11111\n",
      "32   40   20   100000\n",
      "33   41   21   100001\n",
      "34   42   22   100010\n",
      "35   43   23   100011\n",
      "36   44   24   100100\n",
      "37   45   25   100101\n",
      "38   46   26   100110\n",
      "39   47   27   100111\n",
      "40   50   28   101000\n",
      "41   51   29   101001\n",
      "42   52   2A   101010\n",
      "43   53   2B   101011\n",
      "44   54   2C   101100\n",
      "45   55   2D   101101\n",
      "46   56   2E   101110\n",
      "47   57   2F   101111\n",
      "48   60   30   110000\n",
      "49   61   31   110001\n",
      "50   62   32   110010\n",
      "51   63   33   110011\n",
      "52   64   34   110100\n",
      "53   65   35   110101\n",
      "54   66   36   110110\n",
      "55   67   37   110111\n",
      "56   70   38   111000\n",
      "57   71   39   111001\n",
      "58   72   3A   111010\n",
      "59   73   3B   111011\n",
      "60   74   3C   111100\n",
      "61   75   3D   111101\n",
      "62   76   3E   111110\n",
      "63   77   3F   111111\n"
     ]
    }
   ],
   "source": [
    "n=int(input(\"enter the number\"))\n",
    "for i in range(1,n+1) :\n",
    "    print (i,\" \",oct(i)[2:],\" \",hex(i)[2:].upper(),\" \",bin(i)[2:])\n"
   ]
  },
  {
   "cell_type": "code",
   "execution_count": 16,
   "id": "9b3b9396",
   "metadata": {},
   "outputs": [
    {
     "name": "stdout",
     "output_type": "stream",
     "text": [
      "enter the number62\n",
      "1\t1\t1\t1\n",
      "2\t2\t2\t10\n",
      "3\t3\t3\t11\n",
      "4\t4\t4\t100\n",
      "5\t5\t5\t101\n",
      "6\t6\t6\t110\n",
      "7\t7\t7\t111\n",
      "8\t10\t8\t1000\n",
      "9\t11\t9\t1001\n",
      "10\t12\tA\t1010\n",
      "11\t13\tB\t1011\n",
      "12\t14\tC\t1100\n",
      "13\t15\tD\t1101\n",
      "14\t16\tE\t1110\n",
      "15\t17\tF\t1111\n",
      "16\t20\t10\t10000\n",
      "17\t21\t11\t10001\n",
      "18\t22\t12\t10010\n",
      "19\t23\t13\t10011\n",
      "20\t24\t14\t10100\n",
      "21\t25\t15\t10101\n",
      "22\t26\t16\t10110\n",
      "23\t27\t17\t10111\n",
      "24\t30\t18\t11000\n",
      "25\t31\t19\t11001\n",
      "26\t32\t1A\t11010\n",
      "27\t33\t1B\t11011\n",
      "28\t34\t1C\t11100\n",
      "29\t35\t1D\t11101\n",
      "30\t36\t1E\t11110\n",
      "31\t37\t1F\t11111\n",
      "32\t40\t20\t100000\n",
      "33\t41\t21\t100001\n",
      "34\t42\t22\t100010\n",
      "35\t43\t23\t100011\n",
      "36\t44\t24\t100100\n",
      "37\t45\t25\t100101\n",
      "38\t46\t26\t100110\n",
      "39\t47\t27\t100111\n",
      "40\t50\t28\t101000\n",
      "41\t51\t29\t101001\n",
      "42\t52\t2A\t101010\n",
      "43\t53\t2B\t101011\n",
      "44\t54\t2C\t101100\n",
      "45\t55\t2D\t101101\n",
      "46\t56\t2E\t101110\n",
      "47\t57\t2F\t101111\n",
      "48\t60\t30\t110000\n",
      "49\t61\t31\t110001\n",
      "50\t62\t32\t110010\n",
      "51\t63\t33\t110011\n",
      "52\t64\t34\t110100\n",
      "53\t65\t35\t110101\n",
      "54\t66\t36\t110110\n",
      "55\t67\t37\t110111\n",
      "56\t70\t38\t111000\n",
      "57\t71\t39\t111001\n",
      "58\t72\t3A\t111010\n",
      "59\t73\t3B\t111011\n",
      "60\t74\t3C\t111100\n",
      "61\t75\t3D\t111101\n",
      "62\t76\t3E\t111110\n"
     ]
    }
   ],
   "source": [
    "n=int(input(\"enter the number\"))\n",
    "for i in range(1,n+1) :\n",
    "    #print (i,\" \",oct(i)[2:],\" \",hex(i)[2:].upper(),\" \",bin(i)[2:])\n",
    "    print (\"{}\\t{}\\t{}\\t{}\".format(i,oct(i)[2:],hex(i)[2:].upper(),bin(i)[2:]) )\n"
   ]
  },
  {
   "cell_type": "code",
   "execution_count": null,
   "id": "fafed5b2",
   "metadata": {},
   "outputs": [],
   "source": []
  }
 ],
 "metadata": {
  "kernelspec": {
   "display_name": "Python 3 (ipykernel)",
   "language": "python",
   "name": "python3"
  },
  "language_info": {
   "codemirror_mode": {
    "name": "ipython",
    "version": 3
   },
   "file_extension": ".py",
   "mimetype": "text/x-python",
   "name": "python",
   "nbconvert_exporter": "python",
   "pygments_lexer": "ipython3",
   "version": "3.10.4"
  }
 },
 "nbformat": 4,
 "nbformat_minor": 5
}
